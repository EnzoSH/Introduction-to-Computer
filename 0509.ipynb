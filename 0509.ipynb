{
  "nbformat": 4,
  "nbformat_minor": 0,
  "metadata": {
    "colab": {
      "name": "Untitled2.ipynb",
      "provenance": [],
      "authorship_tag": "ABX9TyMY8FYNylSXF/wH7IEDNfS6",
      "include_colab_link": true
    },
    "kernelspec": {
      "name": "python3",
      "display_name": "Python 3"
    },
    "language_info": {
      "name": "python"
    }
  },
  "cells": [
    {
      "cell_type": "markdown",
      "metadata": {
        "id": "view-in-github",
        "colab_type": "text"
      },
      "source": [
        "<a href=\"https://colab.research.google.com/github/EnzoSH/Introduction-to-Computer/blob/main/0509.ipynb\" target=\"_parent\"><img src=\"https://colab.research.google.com/assets/colab-badge.svg\" alt=\"Open In Colab\"/></a>"
      ]
    },
    {
      "cell_type": "code",
      "execution_count": 4,
      "metadata": {
        "colab": {
          "base_uri": "https://localhost:8080/"
        },
        "id": "iN3sdP4hNHh8",
        "outputId": "3cb9d5e7-0ce0-4fe7-f817-5c4334e96484"
      },
      "outputs": [
        {
          "output_type": "stream",
          "name": "stdout",
          "text": [
            "請輸入您的體溫:33.9\n",
            "體溫異常, 請重新量測!\n"
          ]
        }
      ],
      "source": [
        "temp =float(input(\"請輸入您的體溫:\"))\n",
        "\n",
        "if temp > 37.5 : \n",
        "   print(\"體溫過高!\")\n",
        "elif temp >= 37 and temp < 37.4 : \n",
        "   print(\"體溫略高!\")\n",
        "elif temp >= 34 and temp <= 36.9 : \n",
        "   print(\"體溫正常!\")\n",
        "\n",
        "else:\n",
        "    print(\"體溫異常, 請重新量測!\")\n"
      ]
    },
    {
      "cell_type": "code",
      "source": [
        "score=input(\"請輸入成績\")\n",
        "if (int(score)>=90):\n",
        "  print(\"A\")\n",
        "elif (int(score)>=90):\n",
        "  print(\"B\")\n",
        "elif (int(score)>=90):\n",
        "  print(\"C\")\n",
        "elif (int(score)>=90):\n",
        "  print(\"D\")\n",
        "else:\n",
        "  print(\"E\")"
      ],
      "metadata": {
        "colab": {
          "base_uri": "https://localhost:8080/"
        },
        "id": "-bCG3qYxPBiM",
        "outputId": "ba1db55b-ad26-44c3-8e39-764eb27556b2"
      },
      "execution_count": 8,
      "outputs": [
        {
          "output_type": "stream",
          "name": "stdout",
          "text": [
            "請輸入成績50\n",
            "E\n"
          ]
        }
      ]
    },
    {
      "cell_type": "code",
      "source": [
        "money=int(input(\"請輸入購物金額\"))\n",
        "if(money>=10000):\n",
        "  if(money>=100000):\n",
        "    print(\"八折\",money*0.8,end=\"元\\n\")\n",
        "  elif(money>=50000):\n",
        "    print(\"八五折\",money*0.85,end=\"元\\n\")  \n",
        "  elif(money>=30000):\n",
        "    print(\"九折\",money*0.9,end=\"元\\n\")\n",
        "  else:\n",
        "    print(\"九五折\",money*0.95,end=\"元\\n\")\n",
        "else:\n",
        " print(\"沒打折\",money,end=\"元\\n\")    "
      ],
      "metadata": {
        "colab": {
          "base_uri": "https://localhost:8080/"
        },
        "id": "uSWH5ifgRtuZ",
        "outputId": "8def5002-8527-4b1a-e699-e37a71ac1e2f"
      },
      "execution_count": 11,
      "outputs": [
        {
          "output_type": "stream",
          "name": "stdout",
          "text": [
            "請輸入購物金額50000\n",
            "八五折 42500.0元\n"
          ]
        }
      ]
    },
    {
      "cell_type": "code",
      "source": [
        "month = int(input('請輸入一個月份:'))\n",
        "if month in [3,4,5]:\n",
        "    print(month,'月是春天!')\n",
        "elif month in [6,7,8]:\n",
        "    print(month,'月是夏天!')\n",
        "elif month in [9,10,11]:\n",
        "    print(month,'月是秋天!')\n",
        "elif month in [12,1,2]:\n",
        "    print(month,'月是冬天!')\n",
        "else:\n",
        "    print('月份不在範圍內')"
      ],
      "metadata": {
        "colab": {
          "base_uri": "https://localhost:8080/"
        },
        "id": "RM-Noj_GTOnx",
        "outputId": "29447f00-f1c3-4fcc-aaa8-f9d6bd05baf5"
      },
      "execution_count": 25,
      "outputs": [
        {
          "output_type": "stream",
          "name": "stdout",
          "text": [
            "請輸入一個月份:5\n",
            "5 月是春天!\n"
          ]
        }
      ]
    },
    {
      "cell_type": "code",
      "source": [
        "money=int(input(\"請輸入今年收入淨額\"))\n",
        "if(money>=300000):\n",
        "  if(money>=2000000):\n",
        "    print(\"付稅金額\",money*0.3,end=\"元\\n\")\n",
        "  elif(money>=50000):\n",
        "    print(\"付稅金額\",money*0.21,end=\"元\\n\")  \n",
        "  elif(money>=30000):\n",
        "    print(\"付稅金額\",money*0.13,end=\"元\\n\")\n",
        "  else:\n",
        "    print(\"付稅金額\",money*0.06,end=\"元\\n\")\n",
        "else:\n",
        " print(\"付稅金額\",money*0,end=\"元\\n\")    "
      ],
      "metadata": {
        "colab": {
          "base_uri": "https://localhost:8080/"
        },
        "id": "lh2MXTHXYMIn",
        "outputId": "4ba2dea6-5b2d-4a30-ac0e-38b61094e80b"
      },
      "execution_count": 27,
      "outputs": [
        {
          "output_type": "stream",
          "name": "stdout",
          "text": [
            "請輸入今年收入淨額2000000\n",
            "付稅金額 600000.0元\n"
          ]
        }
      ]
    }
  ]
}