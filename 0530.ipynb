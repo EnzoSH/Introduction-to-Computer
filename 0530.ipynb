{
  "nbformat": 4,
  "nbformat_minor": 0,
  "metadata": {
    "colab": {
      "name": "0530.ipynb",
      "provenance": [],
      "authorship_tag": "ABX9TyNeuVly4RUnjemxYX0Qj/a+",
      "include_colab_link": true
    },
    "kernelspec": {
      "name": "python3",
      "display_name": "Python 3"
    },
    "language_info": {
      "name": "python"
    }
  },
  "cells": [
    {
      "cell_type": "markdown",
      "metadata": {
        "id": "view-in-github",
        "colab_type": "text"
      },
      "source": [
        "<a href=\"https://colab.research.google.com/github/EnzoSH/Introduction-to-Computer/blob/main/0530.ipynb\" target=\"_parent\"><img src=\"https://colab.research.google.com/assets/colab-badge.svg\" alt=\"Open In Colab\"/></a>"
      ]
    },
    {
      "cell_type": "code",
      "source": [
        "n=int(input(\"請輸入正整數:\"))\n",
        "for i in range(1,n+1):\n",
        "  if i % 5==0:\n",
        "    continue\n",
        "  print(i,end=\"\")"
      ],
      "metadata": {
        "colab": {
          "base_uri": "https://localhost:8080/"
        },
        "id": "QfP8p52Y-IVz",
        "outputId": "60608164-0ecd-4327-b769-2924d33bace9"
      },
      "execution_count": null,
      "outputs": [
        {
          "output_type": "stream",
          "name": "stdout",
          "text": [
            "請輸入正整數:21\n",
            "12346789111213141617181921"
          ]
        }
      ]
    },
    {
      "cell_type": "code",
      "source": [
        "total=n=0\n",
        "while(n<=10):\n",
        "  total+=n\n",
        "  n+=1\n",
        "print(total)"
      ],
      "metadata": {
        "colab": {
          "base_uri": "https://localhost:8080/"
        },
        "id": "H4ZK_TJH-9JK",
        "outputId": "83e4c598-8b83-4fe6-ecdb-14bec85f6444"
      },
      "execution_count": null,
      "outputs": [
        {
          "output_type": "stream",
          "name": "stdout",
          "text": [
            "55\n"
          ]
        }
      ]
    },
    {
      "cell_type": "code",
      "source": [
        "total=i=1\n",
        "n=int(input(\"請輸入正整數n的值:\"))\n",
        "while i<=n :\n",
        "  total*=i\n",
        "  i+=1\n",
        "print(\"%di=%d\"%(n,total))"
      ],
      "metadata": {
        "colab": {
          "base_uri": "https://localhost:8080/"
        },
        "id": "WF9xqj7M_gtV",
        "outputId": "cdaf992b-50e7-4fe6-bb0c-54ebc0b9c71f"
      },
      "execution_count": null,
      "outputs": [
        {
          "output_type": "stream",
          "name": "stdout",
          "text": [
            "請輸入正整數n的值:100\n",
            "100i=93326215443944152681699238856266700490715968264381621468592963895217599993229915608941463976156518286253697920827223758251185210916864000000000000000000000000\n"
          ]
        }
      ]
    },
    {
      "cell_type": "code",
      "source": [
        "sum1 = 0\n",
        "for i in range(1,51):\n",
        "    if i % 2 == 0:\n",
        "        sum1 = sum1 +i\n",
        "    i += 1\n",
        "print(f\"0-50之間偶數的和是：{sum1}\")\n",
        "sum2 = 0\n",
        "for i in range(1,51):\n",
        "    if i % 2 != 0:\n",
        "        sum2 = sum2 +i\n",
        "    i += 1\n",
        "print(f\"0-50之間奇數的和是：{sum2}\")"
      ],
      "metadata": {
        "colab": {
          "base_uri": "https://localhost:8080/"
        },
        "id": "bfMWaCFQdJau",
        "outputId": "4b2a4d20-22fc-4f56-afef-a4ee564cf95b"
      },
      "execution_count": null,
      "outputs": [
        {
          "output_type": "stream",
          "name": "stdout",
          "text": [
            "0-50之間偶數的和是：650\n",
            "0-50之間奇數的和是：625\n"
          ]
        }
      ]
    },
    {
      "cell_type": "code",
      "source": [
        "n = int(input(\"請輸入正整數:\"))\n",
        "for i in range(n):\n",
        "    print((n-i)*'*')\n"
      ],
      "metadata": {
        "colab": {
          "base_uri": "https://localhost:8080/"
        },
        "id": "R49aamWphs4l",
        "outputId": "a4502611-8048-4bec-892f-4a54817cc21d"
      },
      "execution_count": null,
      "outputs": [
        {
          "output_type": "stream",
          "name": "stdout",
          "text": [
            "請輸入正整數:7\n",
            "*******\n",
            "******\n",
            "*****\n",
            "****\n",
            "***\n",
            "**\n",
            "*\n"
          ]
        }
      ]
    },
    {
      "cell_type": "code",
      "source": [
        "a=0\n",
        "for n in range(1,100):\n",
        "     if n%3==0 or n%7==0:\n",
        "         a=a+n\n",
        "print(\"數值1～100中，所有3或7的倍數的數之總和=\",a)"
      ],
      "metadata": {
        "colab": {
          "base_uri": "https://localhost:8080/"
        },
        "id": "qdtKlmbIiqfM",
        "outputId": "23b1f26a-6190-4faa-996d-39f97bd8bf43"
      },
      "execution_count": 1,
      "outputs": [
        {
          "output_type": "stream",
          "name": "stdout",
          "text": [
            "數值1～100中，所有3或7的倍數的數之總和= 2208\n"
          ]
        }
      ]
    },
    {
      "cell_type": "code",
      "source": [
        "p=1\n",
        "counter=0\n",
        "n=int(input(\"請輸入正整數\"))\n",
        "print(n,\"的因數有\",end=\" \")\n",
        "while(p<=n):\n",
        "  if(n%p==0):\n",
        "   print(p,end=\"\")\n",
        "   counter+=1\n",
        "  p+=1\n",
        "print()\n",
        "if(counter==2):\n",
        " print(n,\"是質數\")\n",
        "else:\n",
        " print(n,\"不是質數\")"
      ],
      "metadata": {
        "colab": {
          "base_uri": "https://localhost:8080/"
        },
        "id": "Y5M2GbI6mrh_",
        "outputId": "617ff3d8-fc79-4bcd-f41b-55aa37606d0a"
      },
      "execution_count": 7,
      "outputs": [
        {
          "output_type": "stream",
          "name": "stdout",
          "text": [
            "請輸入正整數3\n",
            "3 的因數有 13\n",
            "3 是質數\n"
          ]
        }
      ]
    },
    {
      "cell_type": "code",
      "source": [
        ""
      ],
      "metadata": {
        "id": "7hhx0aC4nc9n"
      },
      "execution_count": null,
      "outputs": []
    }
  ]
}